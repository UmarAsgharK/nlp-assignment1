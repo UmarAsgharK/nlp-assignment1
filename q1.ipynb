{
 "cells": [
  {
   "cell_type": "markdown",
   "metadata": {},
   "source": [
    "### Importing Libraries"
   ]
  },
  {
   "cell_type": "code",
   "execution_count": 2,
   "metadata": {},
   "outputs": [],
   "source": [
    "import csv\n",
    "from nltk.tokenize import word_tokenize\n",
    "from nltk import FreqDist, bigrams, trigrams\n",
    "\n",
    "# nltk.download('punkt')"
   ]
  },
  {
   "cell_type": "markdown",
   "metadata": {},
   "source": [
    "### Preprocessing the data\n",
    "\n",
    "- Cleaning the text\n",
    "\n",
    "- Converting Reviews into tokens\n",
    "- Lowercase all the words\n",
    "- Removing Punctuations\n",
    "- Removing the breakline characters 'br'\n"
   ]
  },
  {
   "cell_type": "code",
   "execution_count": 3,
   "metadata": {},
   "outputs": [],
   "source": [
    "reviews = []\n",
    "with open(\"IMDB Dataset.csv\", encoding='utf-8') as file:\n",
    "# with open(\"copied.csv\", encoding='utf-8') as file:\n",
    "    reader = csv.reader(file)\n",
    "    for row in reader:\n",
    "        if row:\n",
    "            reviews.append(row[0])\n",
    "\n",
    "reviews_text = ' '.join(reviews)\n",
    "tokens = word_tokenize(reviews_text)\n",
    "lowercase_tokens = [token.lower() for token in tokens]\n",
    "cleaned_list = [word for word in lowercase_tokens if word.isalpha()]\n",
    "removed_br = [word for word in cleaned_list if word != \"br\"]  # Remove 'br' tokens, whice are breakline charachter"
   ]
  },
  {
   "cell_type": "markdown",
   "metadata": {},
   "source": [
    "### Calculating Frequencies of Unigrams, Bigrams, Trigrams\n",
    "\n",
    "Also Display the 10 most common unigrasm, bigrams, trigrams"
   ]
  },
  {
   "cell_type": "code",
   "execution_count": 4,
   "metadata": {},
   "outputs": [
    {
     "name": "stdout",
     "output_type": "stream",
     "text": [
      "Top 10 most common unigrams: [('the', 664213), ('and', 323076), ('a', 321274), ('of', 288526), ('to', 267033), ('is', 216900), ('it', 187987), ('in', 185215), ('i', 173731), ('this', 150142)]\n",
      "Top 10 most common bigrams: [(('of', 'the'), 77658), (('in', 'the'), 50472), (('this', 'movie'), 30954), (('and', 'the'), 27173), (('is', 'a'), 26752), (('the', 'film'), 26269), (('to', 'the'), 24139), (('the', 'movie'), 23408), (('to', 'be'), 23269), (('this', 'film'), 21439)]\n",
      "Top 10 most common trigrams: [(('one', 'of', 'the'), 9808), (('this', 'movie', 'is'), 5388), (('of', 'the', 'film'), 5029), (('this', 'is', 'a'), 4939), (('a', 'lot', 'of'), 4683), (('of', 'the', 'movie'), 4206), (('some', 'of', 'the'), 3770), (('the', 'film', 'is'), 3759), (('is', 'one', 'of'), 3626), (('this', 'film', 'is'), 3572)]\n"
     ]
    }
   ],
   "source": [
    "unigram_freqdist = FreqDist(removed_br)\n",
    "print(\"Top 10 most common unigrams:\", unigram_freqdist.most_common(10))\n",
    "\n",
    "bigrams_list = list(bigrams(removed_br))\n",
    "bigram_freqdist = FreqDist(bigrams_list)\n",
    "print(\"Top 10 most common bigrams:\", bigram_freqdist.most_common(10))\n",
    "\n",
    "trigrams_list = list(trigrams(removed_br))\n",
    "trigram_freqdist = FreqDist(trigrams_list)\n",
    "print(\"Top 10 most common trigrams:\", trigram_freqdist.most_common(10))"
   ]
  },
  {
   "cell_type": "markdown",
   "metadata": {},
   "source": [
    "### Creating the predictor functions for my N-grams"
   ]
  },
  {
   "cell_type": "code",
   "execution_count": 5,
   "metadata": {},
   "outputs": [],
   "source": [
    "def predict_unigram():\n",
    "    return unigram_freqdist.max()\n",
    "\n",
    "def predict_bigram(prev_word):\n",
    "    candidates = [bigram for bigram in bigram_freqdist if bigram[0] == prev_word]\n",
    "    \n",
    "    if candidates:\n",
    "        return max(candidates, key=lambda x: bigram_freqdist[x])[1]\n",
    "    else:\n",
    "        return None\n",
    "\n",
    "def predict_trigram(prev_two_words):\n",
    "    candidates = [trigram for trigram in trigram_freqdist if (trigram[0], trigram[1]) == prev_two_words]\n",
    "    \n",
    "    if candidates:\n",
    "        return max(candidates, key=lambda x: trigram_freqdist[x])[2]\n",
    "    else:\n",
    "        return None\n"
   ]
  },
  {
   "cell_type": "markdown",
   "metadata": {},
   "source": [
    "### Printing the most commong predicted word for my models\n",
    "\n",
    "* One thing the most predicted word for my unigram would be the one that comes the most so it will be the onle one\n",
    "\n",
    "* While we can change the input previous words for bigram, trigramsjk"
   ]
  },
  {
   "cell_type": "code",
   "execution_count": 6,
   "metadata": {},
   "outputs": [
    {
     "name": "stdout",
     "output_type": "stream",
     "text": [
      "Unigram Prediction (most frequent word): the\n",
      "Bigram Prediction:  is\n",
      "Trigram Prediction:  the\n"
     ]
    }
   ],
   "source": [
    "print(\"Unigram Prediction (most frequent word):\", predict_unigram())\n",
    "\n",
    "print(\"Bigram Prediction: \", predict_bigram('film'))\n",
    "\n",
    "print(\"Trigram Prediction: \", predict_trigram(('some', 'of')))"
   ]
  },
  {
   "cell_type": "code",
   "execution_count": null,
   "metadata": {},
   "outputs": [],
   "source": []
  }
 ],
 "metadata": {
  "kernelspec": {
   "display_name": "Python 3",
   "language": "python",
   "name": "python3"
  },
  "language_info": {
   "codemirror_mode": {
    "name": "ipython",
    "version": 3
   },
   "file_extension": ".py",
   "mimetype": "text/x-python",
   "name": "python",
   "nbconvert_exporter": "python",
   "pygments_lexer": "ipython3",
   "version": "3.12.4"
  }
 },
 "nbformat": 4,
 "nbformat_minor": 2
}
